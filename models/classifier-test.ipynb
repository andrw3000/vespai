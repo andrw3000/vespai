{
 "cells": [
  {
   "cell_type": "markdown",
   "id": "e7c87d83",
   "metadata": {},
   "source": [
    "# Testing the hornet classifier"
   ]
  },
  {
   "cell_type": "code",
   "execution_count": null,
   "id": "891c41d6",
   "metadata": {},
   "outputs": [],
   "source": [
    "train_iter = iter(train_loader)\n",
    "timgs, tlabs = train_iter.next()\n",
    "\n",
    "val_iter = iter(val_loader)\n",
    "vimgs, vlabs = val_iter.next()"
   ]
  }
 ],
 "metadata": {
  "kernelspec": {
   "display_name": "Python 3 (ipykernel)",
   "language": "python",
   "name": "python3"
  },
  "language_info": {
   "codemirror_mode": {
    "name": "ipython",
    "version": 3
   },
   "file_extension": ".py",
   "mimetype": "text/x-python",
   "name": "python",
   "nbconvert_exporter": "python",
   "pygments_lexer": "ipython3",
   "version": "3.9.10"
  }
 },
 "nbformat": 4,
 "nbformat_minor": 5
}
