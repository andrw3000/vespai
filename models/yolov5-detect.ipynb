{
 "cells": [
  {
   "cell_type": "markdown",
   "id": "d7b3d6d8",
   "metadata": {},
   "source": [
    "# Inference with a trainined YOLOv5 model"
   ]
  },
  {
   "cell_type": "code",
   "execution_count": 1,
   "id": "b18a3922",
   "metadata": {},
   "outputs": [],
   "source": [
    "import os\n",
    "import sys\n",
    "\n",
    "# Root directory\n",
    "root_dir = '/Users/Holmes/Research/Projects/vespai'\n",
    "sys.path.insert(0, root_dir)\n",
    "os.chdir(os.path.join(root_dir, 'models/yolov5'))  # Move to yolov5\n",
    "\n",
    "# Automatically reload imported programmes\n",
    "%load_ext autoreload\n",
    "%autoreload 2"
   ]
  },
  {
   "cell_type": "markdown",
   "id": "8adca3b6",
   "metadata": {},
   "source": [
    "## Image inference\n",
    "We utilise `detect.py` from YOLOv5.\n",
    "- The `--source` flag allows one to choose the input source: single image; folder of images; video; webcam.\n",
    "- The `--conf` flag sets the threshold for object confidence.\n",
    "- The `--name` flag located where the detections are stored within `yolov5/runs/detect/`"
   ]
  },
  {
   "cell_type": "code",
   "execution_count": 2,
   "id": "890c26d6",
   "metadata": {},
   "outputs": [
    {
     "name": "stdout",
     "output_type": "stream",
     "text": [
      "\u001b[34m\u001b[1mdetect: \u001b[0mweights=['../yolov5-params/yolov5s-21h22h.pt'], source=../../datasets/raw-22ip/img, data=data/coco128.yaml, imgsz=[640, 640], conf_thres=0.4, iou_thres=0.45, max_det=1000, device=, view_img=False, save_txt=False, save_conf=False, save_crop=False, nosave=False, classes=None, agnostic_nms=False, augment=False, visualize=False, update=False, project=../yolov5-runs/detect/yolov5s-21h22h, name=raw-22ip, exist_ok=False, line_thickness=3, hide_labels=False, hide_conf=False, half=False, dnn=False, vid_stride=1\n",
      "YOLOv5 🚀 2022-9-8 Python-3.9.13 torch-1.10.2 CPU\n",
      "\n",
      "Fusing layers... \n",
      "YOLOv5s summary: 213 layers, 7015519 parameters, 0 gradients\n",
      "image 1/124 /Users/Holmes/Research/Projects/vespai/datasets/raw-22ip/img/01GA1ZQXJ2WXRZDR5XXDR4AEZZ.jpeg: 384x640 (no detections), 203.5ms\n",
      "image 2/124 /Users/Holmes/Research/Projects/vespai/datasets/raw-22ip/img/01GA1ZQXVJ7XE60J7ZP5EHZBK3.jpeg: 384x640 (no detections), 186.2ms\n",
      "image 3/124 /Users/Holmes/Research/Projects/vespai/datasets/raw-22ip/img/01GA1ZQY6AF33P850TXGMEBP4R.jpeg: 384x640 (no detections), 208.4ms\n",
      "image 4/124 /Users/Holmes/Research/Projects/vespai/datasets/raw-22ip/img/01GA1ZQYFQ16DA5JN689H54JHC.jpeg: 384x640 (no detections), 388.9ms\n",
      "image 5/124 /Users/Holmes/Research/Projects/vespai/datasets/raw-22ip/img/01GA1ZQYTFG5R9ZVB0E3VTTNVC.jpeg: 384x640 (no detections), 232.7ms\n",
      "image 6/124 /Users/Holmes/Research/Projects/vespai/datasets/raw-22ip/img/01GA1ZQZ47BTTF66PD4JSRQHDF.jpeg: 384x640 (no detections), 197.2ms\n",
      "image 7/124 /Users/Holmes/Research/Projects/vespai/datasets/raw-22ip/img/01GA1ZQZD1EVRFSWT4RZ5VD9N5.jpeg: 384x640 (no detections), 250.4ms\n",
      "image 8/124 /Users/Holmes/Research/Projects/vespai/datasets/raw-22ip/img/01GA1ZQZPP3N7N814KYV8ZF3B6.jpeg: 384x640 (no detections), 211.5ms\n",
      "image 9/124 /Users/Holmes/Research/Projects/vespai/datasets/raw-22ip/img/01GA1ZR00QR2NSDXX11C4GR75M.jpeg: 384x640 (no detections), 195.3ms\n",
      "image 10/124 /Users/Holmes/Research/Projects/vespai/datasets/raw-22ip/img/01GA1ZR0Q0N9P3KEFGA5384XK4.jpeg: 384x640 (no detections), 477.2ms\n",
      "image 11/124 /Users/Holmes/Research/Projects/vespai/datasets/raw-22ip/img/01GA1ZR110CYEX6EWC8H57AQJD.jpeg: 384x640 (no detections), 211.3ms\n",
      "image 12/124 /Users/Holmes/Research/Projects/vespai/datasets/raw-22ip/img/01GA1ZR1CRPDSS86H49BSGHNMZ.jpeg: 384x640 (no detections), 245.3ms\n",
      "image 13/124 /Users/Holmes/Research/Projects/vespai/datasets/raw-22ip/img/01GA1ZR1QEYE0N0Q013AFWV4ND.jpeg: 384x640 (no detections), 251.4ms\n",
      "image 14/124 /Users/Holmes/Research/Projects/vespai/datasets/raw-22ip/img/01GA1ZR21V0WAPB7ZBP45V3X8S.jpeg: 384x640 (no detections), 233.6ms\n",
      "image 15/124 /Users/Holmes/Research/Projects/vespai/datasets/raw-22ip/img/01GA1ZR2BS25SKGGCHM6BBC592.jpeg: 384x640 (no detections), 257.0ms\n",
      "image 16/124 /Users/Holmes/Research/Projects/vespai/datasets/raw-22ip/img/01GA1ZR2MG6P21CBBNHGGP5ST9.jpeg: 384x640 (no detections), 441.9ms\n",
      "image 17/124 /Users/Holmes/Research/Projects/vespai/datasets/raw-22ip/img/01GA1ZR2XMGXFD9V22TZV6A71M.jpeg: 384x640 (no detections), 256.2ms\n",
      "image 18/124 /Users/Holmes/Research/Projects/vespai/datasets/raw-22ip/img/01GA1ZR36CPP9B6TNSZADFCCJ0.jpeg: 384x640 (no detections), 251.6ms\n",
      "image 19/124 /Users/Holmes/Research/Projects/vespai/datasets/raw-22ip/img/01GA1ZR3FZZBM27YWNG65QEZEJ.jpeg: 384x640 (no detections), 257.3ms\n",
      "image 20/124 /Users/Holmes/Research/Projects/vespai/datasets/raw-22ip/img/01GA1ZR3W0G912W3DHEN5NKMQV.jpeg: 384x640 (no detections), 498.5ms\n",
      "image 21/124 /Users/Holmes/Research/Projects/vespai/datasets/raw-22ip/img/01GA1ZR44RPQ85D9QT2W0BR0Z9.jpeg: 384x640 (no detections), 371.5ms\n",
      "image 22/124 /Users/Holmes/Research/Projects/vespai/datasets/raw-22ip/img/01GA1ZR4DJR0S1VRD74NSV93X6.jpeg: 384x640 (no detections), 350.3ms\n",
      "image 23/124 /Users/Holmes/Research/Projects/vespai/datasets/raw-22ip/img/01GA1ZR4R3E5X9J7S56R2C7DVQ.jpeg: 384x640 (no detections), 296.9ms\n",
      "image 24/124 /Users/Holmes/Research/Projects/vespai/datasets/raw-22ip/img/01GA1ZR50GR2TTFQ10C1XJ8JJ1.jpeg: 384x640 (no detections), 268.9ms\n",
      "image 25/124 /Users/Holmes/Research/Projects/vespai/datasets/raw-22ip/img/01GA1ZR58X6YCJR2JMK4MQEP3Y.jpeg: 384x640 (no detections), 301.4ms\n",
      "image 26/124 /Users/Holmes/Research/Projects/vespai/datasets/raw-22ip/img/01GA1ZR5K7MYHQ58Q8K804YAMG.jpeg: 384x640 (no detections), 289.8ms\n",
      "image 27/124 /Users/Holmes/Research/Projects/vespai/datasets/raw-22ip/img/01GA1ZR5XJWP6NXQHCY3CHFXQE.jpeg: 384x640 (no detections), 231.3ms\n",
      "image 28/124 /Users/Holmes/Research/Projects/vespai/datasets/raw-22ip/img/01GA1ZR6790NGHMRQ6EEQMDJX0.jpeg: 384x640 (no detections), 240.6ms\n",
      "image 29/124 /Users/Holmes/Research/Projects/vespai/datasets/raw-22ip/img/01GA1ZR6GXERAS5SJ25S1EDS24.jpeg: 384x640 (no detections), 291.7ms\n",
      "image 30/124 /Users/Holmes/Research/Projects/vespai/datasets/raw-22ip/img/01GA1ZR6WAFQG5RECTJS61J38Q.jpeg: 384x640 (no detections), 221.5ms\n",
      "image 31/124 /Users/Holmes/Research/Projects/vespai/datasets/raw-22ip/img/01GA1ZR74K6RHG639EVNQEK9XW.jpeg: 384x640 (no detections), 181.4ms\n",
      "image 32/124 /Users/Holmes/Research/Projects/vespai/datasets/raw-22ip/img/01GA1ZR7CMSN56Q4AD797VW7X0.jpeg: 384x640 (no detections), 184.8ms\n",
      "image 33/124 /Users/Holmes/Research/Projects/vespai/datasets/raw-22ip/img/01GA1ZR7NGM9R6KSSNKWFBSJ1H.jpeg: 384x640 (no detections), 173.6ms\n",
      "image 34/124 /Users/Holmes/Research/Projects/vespai/datasets/raw-22ip/img/01GA1ZR7Z74Q5MGWVNA0TNQ30V.jpeg: 384x640 (no detections), 165.6ms\n",
      "image 35/124 /Users/Holmes/Research/Projects/vespai/datasets/raw-22ip/img/01GA1ZR891CJASQS5QZDCJ4E4C.jpeg: 384x640 (no detections), 167.9ms\n",
      "image 36/124 /Users/Holmes/Research/Projects/vespai/datasets/raw-22ip/img/01GA1ZR8HZ44KVQAQA3P56W2PE.jpeg: 384x640 (no detections), 176.9ms\n",
      "image 37/124 /Users/Holmes/Research/Projects/vespai/datasets/raw-22ip/img/01GA1ZR8VXMSAX8DX7SFN99XFS.jpeg: 384x640 (no detections), 186.2ms\n",
      "image 38/124 /Users/Holmes/Research/Projects/vespai/datasets/raw-22ip/img/01GA1ZR94V1GJ6B90C9SY4G6RS.jpeg: 384x640 (no detections), 174.9ms\n",
      "image 39/124 /Users/Holmes/Research/Projects/vespai/datasets/raw-22ip/img/01GA1ZR9E5NMWYXQYRCMX9Q4B3.jpeg: 384x640 (no detections), 173.6ms\n",
      "image 40/124 /Users/Holmes/Research/Projects/vespai/datasets/raw-22ip/img/01GA1ZR9PCQH41PMZNTP5PE882.jpeg: 384x640 (no detections), 173.6ms\n",
      "image 41/124 /Users/Holmes/Research/Projects/vespai/datasets/raw-22ip/img/01GA1ZRA08XVKD0M0CYHWSDV3N.jpeg: 384x640 (no detections), 173.4ms\n",
      "image 42/124 /Users/Holmes/Research/Projects/vespai/datasets/raw-22ip/img/01GA1ZRA92CTPGC26R6ZGBCKJD.jpeg: 384x640 (no detections), 172.3ms\n",
      "image 43/124 /Users/Holmes/Research/Projects/vespai/datasets/raw-22ip/img/01GA1ZRAJ699PAEWGE7MTNBVRV.jpeg: 384x640 (no detections), 169.1ms\n",
      "image 44/124 /Users/Holmes/Research/Projects/vespai/datasets/raw-22ip/img/01GA1ZRAVXYWAX62FJPPFB673C.jpeg: 384x640 (no detections), 160.7ms\n",
      "image 45/124 /Users/Holmes/Research/Projects/vespai/datasets/raw-22ip/img/01GA1ZRB6RMB8VSKW18PZW69HN.jpeg: 384x640 (no detections), 189.3ms\n",
      "image 46/124 /Users/Holmes/Research/Projects/vespai/datasets/raw-22ip/img/01GA1ZT1B1N225Y2HB75QPYEQB.jpeg: 384x640 (no detections), 178.8ms\n",
      "image 47/124 /Users/Holmes/Research/Projects/vespai/datasets/raw-22ip/img/01GA1ZT1K6E0NG3GYFCQBYKT3P.jpeg: 384x640 (no detections), 166.4ms\n",
      "image 48/124 /Users/Holmes/Research/Projects/vespai/datasets/raw-22ip/img/01GA1ZT1VMH4B3Z4YEX5HG7EX4.jpeg: 384x640 (no detections), 167.8ms\n",
      "image 49/124 /Users/Holmes/Research/Projects/vespai/datasets/raw-22ip/img/01GA1ZT24QARPZ3EZTZK18P1H0.jpeg: 384x640 (no detections), 182.8ms\n",
      "image 50/124 /Users/Holmes/Research/Projects/vespai/datasets/raw-22ip/img/01GA1ZXTN3H0897P91BZ3WRHXB.jpeg: 384x640 (no detections), 171.9ms\n",
      "image 51/124 /Users/Holmes/Research/Projects/vespai/datasets/raw-22ip/img/01GA1ZY1EGNWM4P69QV84W5SRK.jpeg: 384x640 (no detections), 174.9ms\n",
      "image 52/124 /Users/Holmes/Research/Projects/vespai/datasets/raw-22ip/img/01GA1ZY1QNN1WWTYT3YHEDVQMM.jpeg: 384x640 (no detections), 170.8ms\n",
      "image 53/124 /Users/Holmes/Research/Projects/vespai/datasets/raw-22ip/img/01GA1ZY200B9WTBF06BFYFESNP.jpeg: 384x640 (no detections), 166.6ms\n",
      "image 54/124 /Users/Holmes/Research/Projects/vespai/datasets/raw-22ip/img/01GA1ZY28AYX6F7R2PM4VDJ24W.jpeg: 384x640 (no detections), 178.3ms\n"
     ]
    },
    {
     "name": "stdout",
     "output_type": "stream",
     "text": [
      "image 55/124 /Users/Holmes/Research/Projects/vespai/datasets/raw-22ip/img/01GA1ZY2GTBZKWW8TRREVA9T3D.jpeg: 384x640 (no detections), 175.4ms\n",
      "image 56/124 /Users/Holmes/Research/Projects/vespai/datasets/raw-22ip/img/01GA1ZY3XAWESXBM6NR6Z7Y1JA.jpeg: 384x640 (no detections), 168.7ms\n",
      "image 57/124 /Users/Holmes/Research/Projects/vespai/datasets/raw-22ip/img/01GA1ZY45DTA7QA4E84190572J.jpeg: 384x640 (no detections), 173.3ms\n",
      "image 58/124 /Users/Holmes/Research/Projects/vespai/datasets/raw-22ip/img/01GA1ZY4DJNW3KKEXTEGECGS6Z.jpeg: 384x640 (no detections), 183.1ms\n",
      "image 59/124 /Users/Holmes/Research/Projects/vespai/datasets/raw-22ip/img/01GA1ZY4P05CAXK6T51TJS7C2D.jpeg: 384x640 (no detections), 173.7ms\n",
      "image 60/124 /Users/Holmes/Research/Projects/vespai/datasets/raw-22ip/img/01GA1ZY4YQHEHEQA48TYST55VK.jpeg: 384x640 (no detections), 170.8ms\n",
      "image 61/124 /Users/Holmes/Research/Projects/vespai/datasets/raw-22ip/img/01GA1ZY571SZKGEHA608DCXPP2.jpeg: 384x640 (no detections), 168.8ms\n",
      "image 62/124 /Users/Holmes/Research/Projects/vespai/datasets/raw-22ip/img/01GA1ZY5FWQS59VN5NE1CBYMVD.jpeg: 384x640 (no detections), 191.9ms\n",
      "image 63/124 /Users/Holmes/Research/Projects/vespai/datasets/raw-22ip/img/01GA1ZY5R3K2YH23WM722ZKHA4.jpeg: 384x640 (no detections), 173.8ms\n",
      "image 64/124 /Users/Holmes/Research/Projects/vespai/datasets/raw-22ip/img/01GA1ZY6093ZM78FTY81H540N5.jpeg: 384x640 (no detections), 171.2ms\n",
      "image 65/124 /Users/Holmes/Research/Projects/vespai/datasets/raw-22ip/img/01GA1ZY68721C1HHSCTJT6MTY8.jpeg: 384x640 (no detections), 172.2ms\n",
      "image 66/124 /Users/Holmes/Research/Projects/vespai/datasets/raw-22ip/img/01GA1ZY6G9V6Z7258X0GF5MV8Q.jpeg: 384x640 (no detections), 188.0ms\n",
      "image 67/124 /Users/Holmes/Research/Projects/vespai/datasets/raw-22ip/img/01GA1ZY6RTCSC3743BTBCAP1R6.jpeg: 384x640 (no detections), 211.1ms\n",
      "image 68/124 /Users/Holmes/Research/Projects/vespai/datasets/raw-22ip/img/01GA1ZY721VCK8JP83D1F4E04R.jpeg: 384x640 (no detections), 200.4ms\n",
      "image 69/124 /Users/Holmes/Research/Projects/vespai/datasets/raw-22ip/img/01GA1ZY7ABPY1N8MBVPJZR4RH1.jpeg: 384x640 (no detections), 478.0ms\n",
      "image 70/124 /Users/Holmes/Research/Projects/vespai/datasets/raw-22ip/img/01GA1ZY7J90PX7Z4MC07J7B184.jpeg: 384x640 (no detections), 534.3ms\n",
      "image 71/124 /Users/Holmes/Research/Projects/vespai/datasets/raw-22ip/img/01GA1ZY7TQP0EAQZ1YF65F4DZG.jpeg: 384x640 (no detections), 691.6ms\n",
      "image 72/124 /Users/Holmes/Research/Projects/vespai/datasets/raw-22ip/img/01GA1ZY82NFNKKS01CNJ3SQ1TE.jpeg: 384x640 (no detections), 377.0ms\n",
      "image 73/124 /Users/Holmes/Research/Projects/vespai/datasets/raw-22ip/img/01GA1ZY8B1F69EPEKWSV24NA9C.jpeg: 384x640 (no detections), 734.2ms\n",
      "image 74/124 /Users/Holmes/Research/Projects/vespai/datasets/raw-22ip/img/01GA1ZY8JS5GA7BKNB9QYHTCA2.jpeg: 384x640 (no detections), 558.6ms\n",
      "image 75/124 /Users/Holmes/Research/Projects/vespai/datasets/raw-22ip/img/01GA1ZY8WKBPS69P1EKVDQ9N6K.jpeg: 384x640 (no detections), 471.1ms\n",
      "image 76/124 /Users/Holmes/Research/Projects/vespai/datasets/raw-22ip/img/01GA1ZY9MYQVYM3JZ7Z1BWA5RR.jpeg: 384x640 (no detections), 634.1ms\n",
      "image 77/124 /Users/Holmes/Research/Projects/vespai/datasets/raw-22ip/img/01GA1ZYQZD8FNVNRPQG759C8CD.jpeg: 384x640 (no detections), 380.8ms\n",
      "image 78/124 /Users/Holmes/Research/Projects/vespai/datasets/raw-22ip/img/01GA1ZYR7SDBYW2QBFHDPGSZ72.jpeg: 384x640 (no detections), 324.8ms\n",
      "image 79/124 /Users/Holmes/Research/Projects/vespai/datasets/raw-22ip/img/01GA1ZYS23HS4P0HHTAAKV1H4Y.jpeg: 384x640 (no detections), 357.0ms\n",
      "image 80/124 /Users/Holmes/Research/Projects/vespai/datasets/raw-22ip/img/01GA1ZYSBVSFVPKQM9VSA2PJ7F.jpeg: 384x640 (no detections), 316.7ms\n",
      "image 81/124 /Users/Holmes/Research/Projects/vespai/datasets/raw-22ip/img/01GA1ZYSMDC00H23ZVPZ7RES9W.jpeg: 384x640 (no detections), 284.7ms\n",
      "image 82/124 /Users/Holmes/Research/Projects/vespai/datasets/raw-22ip/img/01GA1ZYSWPMB1AEE423SDGDX6M.jpeg: 384x640 (no detections), 312.9ms\n",
      "image 83/124 /Users/Holmes/Research/Projects/vespai/datasets/raw-22ip/img/01GA1ZYT4KKE9B7BR1RJ00XABK.jpeg: 384x640 (no detections), 266.1ms\n",
      "image 84/124 /Users/Holmes/Research/Projects/vespai/datasets/raw-22ip/img/01GA1ZYTCAQTVC987V5AP40681.jpeg: 384x640 (no detections), 297.9ms\n",
      "image 85/124 /Users/Holmes/Research/Projects/vespai/datasets/raw-22ip/img/01GA1ZYTN5P7MHES0G631WF1J5.jpeg: 384x640 (no detections), 244.3ms\n",
      "image 86/124 /Users/Holmes/Research/Projects/vespai/datasets/raw-22ip/img/01GA1ZYTXGZPZEZSXEJE9K6Q2B.jpeg: 384x640 (no detections), 220.6ms\n",
      "image 87/124 /Users/Holmes/Research/Projects/vespai/datasets/raw-22ip/img/01GA1ZYV58HTT0B7FW0NGEC0D7.jpeg: 384x640 (no detections), 214.8ms\n",
      "image 88/124 /Users/Holmes/Research/Projects/vespai/datasets/raw-22ip/img/01GA1ZYVDFJ033Z1MTATENY7WC.jpeg: 384x640 (no detections), 298.4ms\n",
      "image 89/124 /Users/Holmes/Research/Projects/vespai/datasets/raw-22ip/img/01GA1ZYVNFAAMK1FYVEMDN0NH7.jpeg: 384x640 (no detections), 205.0ms\n",
      "image 90/124 /Users/Holmes/Research/Projects/vespai/datasets/raw-22ip/img/01GA1ZYVYJJXQDVX17Z24KF6FM.jpeg: 384x640 (no detections), 193.1ms\n",
      "image 91/124 /Users/Holmes/Research/Projects/vespai/datasets/raw-22ip/img/01GA1ZYW8FGZSKSDY2SG8XQ749.jpeg: 384x640 (no detections), 231.8ms\n",
      "image 92/124 /Users/Holmes/Research/Projects/vespai/datasets/raw-22ip/img/01GA1ZYWGC389ZBQPBE47C19TB.jpeg: 384x640 (no detections), 179.7ms\n",
      "image 93/124 /Users/Holmes/Research/Projects/vespai/datasets/raw-22ip/img/01GA1ZYWR1YW8XYVCDBRM34W8J.jpeg: 384x640 (no detections), 182.4ms\n",
      "image 94/124 /Users/Holmes/Research/Projects/vespai/datasets/raw-22ip/img/01GA1ZYWZXQHNMDE0J892FYRHF.jpeg: 384x640 (no detections), 175.6ms\n",
      "image 95/124 /Users/Holmes/Research/Projects/vespai/datasets/raw-22ip/img/01GA1ZYX80KX2W1JKV3NPXBN43.jpeg: 384x640 (no detections), 298.1ms\n",
      "image 96/124 /Users/Holmes/Research/Projects/vespai/datasets/raw-22ip/img/01GA1ZYXGBS1EMPWEQ23G4EAS8.jpeg: 384x640 (no detections), 177.2ms\n",
      "image 97/124 /Users/Holmes/Research/Projects/vespai/datasets/raw-22ip/img/01GA1ZYYJDZ2MR0FEXRAE276BB.jpeg: 384x640 (no detections), 225.7ms\n",
      "image 98/124 /Users/Holmes/Research/Projects/vespai/datasets/raw-22ip/img/01GA1ZZBR37F29NWSG35SGXS79.jpeg: 384x640 (no detections), 281.2ms\n",
      "image 99/124 /Users/Holmes/Research/Projects/vespai/datasets/raw-22ip/img/01GA1ZZC08V54HYV4E1GJBZR18.jpeg: 384x640 (no detections), 271.0ms\n",
      "image 100/124 /Users/Holmes/Research/Projects/vespai/datasets/raw-22ip/img/01GA1ZZC9Z848J20PR2HMA6YYM.jpeg: 384x640 (no detections), 204.1ms\n",
      "image 101/124 /Users/Holmes/Research/Projects/vespai/datasets/raw-22ip/img/01GA1ZZCJZDWTQPNXS3B0TD77T.jpeg: 384x640 (no detections), 205.1ms\n",
      "image 102/124 /Users/Holmes/Research/Projects/vespai/datasets/raw-22ip/img/01GA1ZZCTKF2V1T9692FZ6H38Z.jpeg: 384x640 (no detections), 206.0ms\n",
      "image 103/124 /Users/Holmes/Research/Projects/vespai/datasets/raw-22ip/img/01GA1ZZD4C12S32P3GC3J2Z1X0.jpeg: 384x640 (no detections), 207.6ms\n",
      "image 104/124 /Users/Holmes/Research/Projects/vespai/datasets/raw-22ip/img/01GA1ZZDDFGZABYCERGCTD253N.jpeg: 384x640 (no detections), 188.5ms\n",
      "image 105/124 /Users/Holmes/Research/Projects/vespai/datasets/raw-22ip/img/01GA1ZZDNEJ7FGN68HG5W9DZMZ.jpeg: 384x640 (no detections), 272.3ms\n",
      "image 106/124 /Users/Holmes/Research/Projects/vespai/datasets/raw-22ip/img/01GA1ZZDXBYNB40DWXQFNSCCWP.jpeg: 384x640 (no detections), 203.3ms\n",
      "image 107/124 /Users/Holmes/Research/Projects/vespai/datasets/raw-22ip/img/01GA1ZZE61P0BFA3JD8NQTJS3B.jpeg: 384x640 (no detections), 276.5ms\n",
      "image 108/124 /Users/Holmes/Research/Projects/vespai/datasets/raw-22ip/img/01GA1ZZEDYMSPRDP4T4KXGMD85.jpeg: 384x640 (no detections), 218.3ms\n",
      "image 109/124 /Users/Holmes/Research/Projects/vespai/datasets/raw-22ip/img/01GA1ZZEPZXH1FFGVJPSNAQN5Q.jpeg: 384x640 (no detections), 214.0ms\n",
      "image 110/124 /Users/Holmes/Research/Projects/vespai/datasets/raw-22ip/img/01GA1ZZEZ3P40YK66MT4K6XE03.jpeg: 384x640 (no detections), 205.8ms\n",
      "image 111/124 /Users/Holmes/Research/Projects/vespai/datasets/raw-22ip/img/01GA1ZZF7DWDZWGXVC4V6574DK.jpeg: 384x640 (no detections), 290.8ms\n",
      "image 112/124 /Users/Holmes/Research/Projects/vespai/datasets/raw-22ip/img/01GA1ZZFFA6CSD9KCP0WTMAMQ5.jpeg: 384x640 (no detections), 208.4ms\n",
      "image 113/124 /Users/Holmes/Research/Projects/vespai/datasets/raw-22ip/img/01GA1ZZFQJEKFW40ZCT6PYRTMD.jpeg: 384x640 (no detections), 221.9ms\n"
     ]
    },
    {
     "name": "stdout",
     "output_type": "stream",
     "text": [
      "image 114/124 /Users/Holmes/Research/Projects/vespai/datasets/raw-22ip/img/01GA1ZZFZK8XNCRK3TT5QVKSXD.jpeg: 384x640 (no detections), 232.0ms\n",
      "image 115/124 /Users/Holmes/Research/Projects/vespai/datasets/raw-22ip/img/01GA1ZZG80W6H84A1W28EKY8QS.jpeg: 384x640 (no detections), 403.3ms\n",
      "image 116/124 /Users/Holmes/Research/Projects/vespai/datasets/raw-22ip/img/01GA1ZZGG6ZZYBA5JRY51VHZ9W.jpeg: 384x640 (no detections), 339.7ms\n",
      "image 117/124 /Users/Holmes/Research/Projects/vespai/datasets/raw-22ip/img/01GA1ZZGR5R0T8VMSSMP5ZY0SR.jpeg: 384x640 (no detections), 304.3ms\n",
      "image 118/124 /Users/Holmes/Research/Projects/vespai/datasets/raw-22ip/img/01GA1ZZH1KMGQHRWNZ4N8CX6JZ.jpeg: 384x640 (no detections), 293.7ms\n",
      "image 119/124 /Users/Holmes/Research/Projects/vespai/datasets/raw-22ip/img/01GA1ZZHA8495QJ84T9BN978X2.jpeg: 384x640 (no detections), 479.6ms\n",
      "image 120/124 /Users/Holmes/Research/Projects/vespai/datasets/raw-22ip/img/01GA1ZZHJQ4Q7ERQ277HFFVSWY.jpeg: 384x640 (no detections), 422.5ms\n",
      "image 121/124 /Users/Holmes/Research/Projects/vespai/datasets/raw-22ip/img/01GA1ZZHTT036SQAWAJG43G14W.jpeg: 384x640 (no detections), 394.5ms\n",
      "image 122/124 /Users/Holmes/Research/Projects/vespai/datasets/raw-22ip/img/01GA1ZZJ2MTY9XFK3VEWXB3VEK.jpeg: 384x640 (no detections), 375.6ms\n",
      "image 123/124 /Users/Holmes/Research/Projects/vespai/datasets/raw-22ip/img/01GC73AV338NAS1EFFDS0G3001.jpeg: 384x640 (no detections), 497.3ms\n",
      "image 124/124 /Users/Holmes/Research/Projects/vespai/datasets/raw-22ip/img/01GC73AVEDWFZ7GHB9FGR5B8EN.jpeg: 384x640 (no detections), 367.5ms\n",
      "Speed: 0.8ms pre-process, 263.5ms inference, 0.3ms NMS per image at shape (1, 3, 640, 640)\n",
      "Results saved to \u001b[1m../yolov5-runs/detect/yolov5s-21h22h/raw-22ip\u001b[0m\n"
     ]
    }
   ],
   "source": [
    "# To print detections over folder with chosen confidence `--conf`\n",
    "\n",
    "# Model under testing\n",
    "model_name = 'yolov5s-all-data'\n",
    "\n",
    "# Data/project name\n",
    "data_dir = 'raw-22h'\n",
    "\n",
    "!python detect.py   --conf 0.40 \\\n",
    "                    --source ../../datasets/{data_dir}/img \\\n",
    "                    --weights ../yolov5-params/{model_name}.pt \\\n",
    "                    --project ../yolov5-runs/detect/{model_name} \\\n",
    "                    --name {data_dir}\n"
   ]
  },
  {
   "cell_type": "code",
   "execution_count": 3,
   "id": "2032915c",
   "metadata": {},
   "outputs": [
    {
     "name": "stdout",
     "output_type": "stream",
     "text": [
      "Detections complete.\n"
     ]
    }
   ],
   "source": [
    "print('Detections complete.')"
   ]
  }
 ],
 "metadata": {
  "kernelspec": {
   "display_name": "Python 3 (ipykernel)",
   "language": "python",
   "name": "python3"
  },
  "language_info": {
   "codemirror_mode": {
    "name": "ipython",
    "version": 3
   },
   "file_extension": ".py",
   "mimetype": "text/x-python",
   "name": "python",
   "nbconvert_exporter": "python",
   "pygments_lexer": "ipython3",
   "version": "3.9.13"
  }
 },
 "nbformat": 4,
 "nbformat_minor": 5
}
