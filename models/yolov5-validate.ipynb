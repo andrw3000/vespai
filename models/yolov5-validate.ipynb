{
 "cells": [
  {
   "cell_type": "markdown",
   "id": "d7b3d6d8",
   "metadata": {},
   "source": [
    "# Validation of a YOLOv5 model"
   ]
  },
  {
   "cell_type": "code",
   "execution_count": 1,
   "id": "b18a3922",
   "metadata": {},
   "outputs": [],
   "source": [
    "import os\n",
    "import sys\n",
    "\n",
    "# Root directory\n",
    "root_dir = '/Users/Holmes/Research/Projects/vespalert'\n",
    "sys.path.insert(0, root_dir)\n",
    "os.chdir(os.path.join(root_dir, 'models/yolov5'))  # Move to yolov5\n",
    "\n",
    "# Data directory (x1)\n",
    "data_dir = os.path.join(root_dir, 'datasets/polygons-21')\n",
    "os.listdir(data_dir)\n",
    "\n",
    "# Automatically reload imported programmes\n",
    "%load_ext autoreload\n",
    "%autoreload 2"
   ]
  },
  {
   "cell_type": "code",
   "execution_count": 2,
   "id": "5939ae0d",
   "metadata": {},
   "outputs": [],
   "source": [
    "%%capture readout\n",
    "\n",
    "# Locate local config file (x1)\n",
    "yaml_path = os.path.join(data_dir, 'config-local.yaml')\n",
    "proj_name = 'polygons-21-test'\n",
    "\n",
    "# To compute mAP on test data (x1)\n",
    "#   opt `--half` for FP16 inference\n",
    "#   opt `--augment` for augmented inference\n",
    "!python val.py  --weights ../yolov5-runs/train/smallnet/weights/best.pt \\\n",
    "                --project ../yolov5-runs/val \\\n",
    "                --name {proj_name} \\\n",
    "                --task test \\\n",
    "                --data {yaml_path} \\\n",
    "                --save-txt \\\n",
    "                --save-hybrid \\\n",
    "                --save-conf \\\n",
    "                --verbose\n",
    "\n",
    "# Save readout\n",
    "with open('runs/val/' + proj_name + '/readout.txt', 'w') as f:\n",
    "    f.write('\\n'.join(readout.stdout.split(\"\\n\")))\n",
    "    \n",
    "print(readout.stdout)"
   ]
  }
 ],
 "metadata": {
  "kernelspec": {
   "display_name": "Python 3 (ipykernel)",
   "language": "python",
   "name": "python3"
  },
  "language_info": {
   "codemirror_mode": {
    "name": "ipython",
    "version": 3
   },
   "file_extension": ".py",
   "mimetype": "text/x-python",
   "name": "python",
   "nbconvert_exporter": "python",
   "pygments_lexer": "ipython3",
   "version": "3.9.10"
  }
 },
 "nbformat": 4,
 "nbformat_minor": 5
}
