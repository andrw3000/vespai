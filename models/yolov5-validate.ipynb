{
 "cells": [
  {
   "cell_type": "markdown",
   "id": "d7b3d6d8",
   "metadata": {},
   "source": [
    "# Validation of a YOLOv5 model"
   ]
  },
  {
   "cell_type": "code",
   "execution_count": 1,
   "id": "b18a3922",
   "metadata": {},
   "outputs": [],
   "source": [
    "import os\n",
    "import sys\n",
    "\n",
    "# Root directory\n",
    "root_dir = '/Users/Holmes/Research/Projects/vespai'\n",
    "sys.path.insert(0, root_dir)\n",
    "os.chdir(os.path.join(root_dir, 'models/yolov5'))  # Move to yolov5\n",
    "\n",
    "# Automatically reload imported programmes\n",
    "%load_ext autoreload\n",
    "%autoreload 2"
   ]
  },
  {
   "cell_type": "code",
   "execution_count": 2,
   "id": "5939ae0d",
   "metadata": {},
   "outputs": [],
   "source": [
    "%%capture readout\n",
    "# Data and project\n",
    "data_dir = os.path.join(root_dir, 'datasets/polygons-22ip-test')\n",
    "proj_name = 'm21-on-22ip-test'\n",
    "\n",
    "# Locate local config file\n",
    "yaml_path = os.path.join(data_dir, 'config-local.yaml')\n",
    "\n",
    "# To compute mAP on test data (x1)\n",
    "#   opt `--half` for FP16 inference\n",
    "#   opt `--augment` for augmented inference\n",
    "!python val.py  --weights ../yolov5-params/yolov5s-21.pt \\\n",
    "                --project ../yolov5-runs/test \\\n",
    "                --name {proj_name} \\\n",
    "                --task test \\\n",
    "                --data {yaml_path} \\\n",
    "                --save-txt \\\n",
    "                --save-conf \\\n",
    "                --verbose"
   ]
  },
  {
   "cell_type": "code",
   "execution_count": 3,
   "id": "23e945d3",
   "metadata": {},
   "outputs": [
    {
     "name": "stdout",
     "output_type": "stream",
     "text": [
      "\u001b[34m\u001b[1mval: \u001b[0mdata=/Users/Holmes/Research/Projects/vespai/datasets/polygons-22ip-test/config-local.yaml, weights=['../yolov5-params/yolov5s-21.pt'], batch_size=32, imgsz=640, conf_thres=0.001, iou_thres=0.6, task=test, device=, workers=8, single_cls=False, augment=False, verbose=True, save_txt=True, save_hybrid=False, save_conf=True, save_json=False, project=../yolov5-runs/test, name=m21-on-22ip-test, exist_ok=False, half=False, dnn=False\r\n",
      "YOLOv5 🚀 2022-9-8 Python-3.9.13 torch-1.10.2 CPU\r\n",
      "\r\n",
      "Fusing layers... \r\n",
      "YOLOv5s summary: 213 layers, 7015519 parameters, 0 gradients\r\n",
      "\r",
      "\u001b[34m\u001b[1mtest: \u001b[0mScanning '/Users/Holmes/Research/Projects/vespai/datasets/polygons-22ip-te\u001b[0m\r",
      "\u001b[34m\u001b[1mtest: \u001b[0mScanning '/Users/Holmes/Research/Projects/vespai/datasets/polygons-22ip-te\u001b[0m\r",
      "\u001b[34m\u001b[1mtest: \u001b[0mScanning '/Users/Holmes/Research/Projects/vespai/datasets/polygons-22ip-te\u001b[0m\r\n",
      "\u001b[34m\u001b[1mtest: \u001b[0mNew cache created: /Users/Holmes/Research/Projects/vespai/datasets/polygons-22ip-test/labels/test.cache\r\n",
      "\r",
      "                 Class     Images  Instances          P          R     mAP@.5 mA\r",
      "                 Class     Images  Instances          P          R     mAP@.5 mA\r",
      "                 Class     Images  Instances          P          R     mAP@.5 mA\r",
      "                 Class     Images  Instances          P          R     mAP@.5 mA\r",
      "                 Class     Images  Instances          P          R     mAP@.5 mA\r",
      "                 Class     Images  Instances          P          R     mAP@.5 mA\r\n",
      "                   all        125          0          0          0          0          0\r\n",
      "WARNING: no labels found in test set, can not compute metrics without labels ⚠️\r\n",
      "Speed: 1.9ms pre-process, 236.7ms inference, 0.5ms NMS per image at shape (32, 3, 640, 640)\r\n",
      "Traceback (most recent call last):\r\n",
      "  File \"/Users/Holmes/Research/Projects/vespai/models/yolov5/val.py\", line 397, in <module>\r\n",
      "    main(opt)\r\n",
      "  File \"/Users/Holmes/Research/Projects/vespai/models/yolov5/val.py\", line 370, in main\r\n",
      "    run(**vars(opt))\r\n",
      "  File \"/opt/miniconda3/envs/vespai/lib/python3.9/site-packages/torch/autograd/grad_mode.py\", line 28, in decorate_context\r\n",
      "    return func(*args, **kwargs)\r\n",
      "  File \"/Users/Holmes/Research/Projects/vespai/models/yolov5/val.py\", line 292, in run\r\n",
      "    callbacks.run('on_val_end', nt, tp, fp, p, r, f1, ap, ap50, ap_class, confusion_matrix)\r\n",
      "UnboundLocalError: local variable 'tp' referenced before assignment\r\n",
      "\n"
     ]
    }
   ],
   "source": [
    "# Save readout\n",
    "print(readout.stdout)\n",
    "with open('../yolov5-runs/test/' + proj_name + '/readout.txt', 'w') as f:\n",
    "    f.write('\\n'.join(readout.stdout.split(\"\\n\")))\n",
    "    "
   ]
  },
  {
   "cell_type": "code",
   "execution_count": null,
   "id": "85aad51a",
   "metadata": {},
   "outputs": [],
   "source": []
  }
 ],
 "metadata": {
  "kernelspec": {
   "display_name": "Python 3 (ipykernel)",
   "language": "python",
   "name": "python3"
  },
  "language_info": {
   "codemirror_mode": {
    "name": "ipython",
    "version": 3
   },
   "file_extension": ".py",
   "mimetype": "text/x-python",
   "name": "python",
   "nbconvert_exporter": "python",
   "pygments_lexer": "ipython3",
   "version": "3.9.13"
  }
 },
 "nbformat": 4,
 "nbformat_minor": 5
}
