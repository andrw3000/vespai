{
 "cells": [
  {
   "cell_type": "markdown",
   "id": "d7b3d6d8",
   "metadata": {},
   "source": [
    "# Validation of a YOLOv5 model"
   ]
  },
  {
   "cell_type": "code",
   "execution_count": 1,
   "id": "b18a3922",
   "metadata": {},
   "outputs": [],
   "source": [
    "import os\n",
    "import sys\n",
    "\n",
    "# Root directory\n",
    "root_dir = '/Users/Holmes/Research/Projects/vespai'\n",
    "sys.path.insert(0, root_dir)\n",
    "os.chdir(os.path.join(root_dir, 'models/yolov5'))  # Move to yolov5\n",
    "\n",
    "# Automatically reload imported programmes\n",
    "%load_ext autoreload\n",
    "%autoreload 2"
   ]
  },
  {
   "cell_type": "code",
   "execution_count": 2,
   "id": "5939ae0d",
   "metadata": {},
   "outputs": [],
   "source": [
    "%%capture readout\n",
    "\n",
    "# Model under testing\n",
    "model_name = 'yolov5s-all-data'\n",
    "\n",
    "# Data and project\n",
    "data_dir = os.path.join(root_dir, 'datasets/polygons-test-ip')\n",
    "proj_name = 'test-ip'\n",
    "\n",
    "# Locate local config file\n",
    "yaml_path = os.path.join(data_dir, 'config-local.yaml')\n",
    "\n",
    "# To compute mAP on test data (x1)\n",
    "#   opt `--half` for FP16 inference\n",
    "#   opt `--augment` for augmented inference\n",
    "!python val.py  --weights ../yolov5-params/{model_name}.pt \\\n",
    "                --project ../yolov5-runs/test/{model_name} \\\n",
    "                --name {proj_name} \\\n",
    "                --task test \\\n",
    "                --data {yaml_path} \\\n",
    "                --save-txt \\\n",
    "                --save-conf \\\n",
    "                --verbose"
   ]
  },
  {
   "cell_type": "code",
   "execution_count": 3,
   "id": "23e945d3",
   "metadata": {},
   "outputs": [
    {
     "name": "stdout",
     "output_type": "stream",
     "text": [
      "\u001b[34m\u001b[1mval: \u001b[0mdata=/Users/Holmes/Research/Projects/vespai/datasets/polygons-test-ip/config-local.yaml, weights=['../yolov5-params/yolov5s-21h22h.pt'], batch_size=32, imgsz=640, conf_thres=0.001, iou_thres=0.6, task=test, device=, workers=8, single_cls=False, augment=False, verbose=True, save_txt=True, save_hybrid=False, save_conf=True, save_json=False, project=../yolov5-runs/test/yolov5s-21h22h, name=test-ip, exist_ok=False, half=False, dnn=False\r\n",
      "YOLOv5 🚀 2022-9-8 Python-3.9.13 torch-1.10.2 CPU\r\n",
      "\r\n",
      "Fusing layers... \r\n",
      "YOLOv5s summary: 213 layers, 7015519 parameters, 0 gradients\r\n",
      "\r",
      "\u001b[34m\u001b[1mtest: \u001b[0mScanning '/Users/Holmes/Research/Projects/vespai/datasets/polygons-test-ip\u001b[0m\r",
      "\u001b[34m\u001b[1mtest: \u001b[0mScanning '/Users/Holmes/Research/Projects/vespai/datasets/polygons-test-ip\u001b[0m\r\n",
      "\r",
      "                 Class     Images  Instances          P          R     mAP@.5 mA\r",
      "                 Class     Images  Instances          P          R     mAP@.5 mA\r",
      "                 Class     Images  Instances          P          R     mAP@.5 mA\r",
      "                 Class     Images  Instances          P          R     mAP@.5 mA\r",
      "                 Class     Images  Instances          P          R     mAP@.5 mA\r",
      "                 Class     Images  Instances          P          R     mAP@.5 mA\r",
      "                 Class     Images  Instances          P          R     mAP@.5 mA\r",
      "                 Class     Images  Instances          P          R     mAP@.5 mA\r",
      "                 Class     Images  Instances          P          R     mAP@.5 mA\r",
      "                 Class     Images  Instances          P          R     mAP@.5 mA\r",
      "                 Class     Images  Instances          P          R     mAP@.5 mA\r",
      "                 Class     Images  Instances          P          R     mAP@.5 mA\r",
      "                 Class     Images  Instances          P          R     mAP@.5 mA\r",
      "                 Class     Images  Instances          P          R     mAP@.5 mA\r",
      "                 Class     Images  Instances          P          R     mAP@.5 mA\r",
      "                 Class     Images  Instances          P          R     mAP@.5 mA\r",
      "                 Class     Images  Instances          P          R     mAP@.5 mA\r",
      "                 Class     Images  Instances          P          R     mAP@.5 mA\r",
      "                 Class     Images  Instances          P          R     mAP@.5 mA\r",
      "                 Class     Images  Instances          P          R     mAP@.5 mA\r",
      "                 Class     Images  Instances          P          R     mAP@.5 mA\r",
      "                 Class     Images  Instances          P          R     mAP@.5 mA\r",
      "                 Class     Images  Instances          P          R     mAP@.5 mA\r",
      "                 Class     Images  Instances          P          R     mAP@.5 mA\r",
      "                 Class     Images  Instances          P          R     mAP@.5 mA\r\n",
      "                   all        722        208      0.701       0.85      0.842       0.77\r\n",
      "          Vespa crabro        722        126      0.747      0.944      0.924      0.842\r\n",
      "        Vespa velutina        722         82      0.654      0.756       0.76      0.697\r\n",
      "Speed: 0.6ms pre-process, 183.5ms inference, 0.4ms NMS per image at shape (32, 3, 640, 640)\r\n",
      "Results saved to \u001b[1m../yolov5-runs/test/yolov5s-21h22h/test-ip\u001b[0m\r\n",
      "445 labels saved to ../yolov5-runs/test/yolov5s-21h22h/test-ip/labels\r\n",
      "\n"
     ]
    }
   ],
   "source": [
    "# Save readout\n",
    "print(readout.stdout)\n",
    "with open('../yolov5-runs/test/' + model_name + '/' + proj_name + '/readout.txt', 'w') as f:\n",
    "    f.write('\\n'.join(readout.stdout.split(\"\\n\")))\n",
    "    "
   ]
  },
  {
   "cell_type": "code",
   "execution_count": 4,
   "id": "85aad51a",
   "metadata": {},
   "outputs": [
    {
     "name": "stdout",
     "output_type": "stream",
     "text": [
      "Validation complete\n"
     ]
    }
   ],
   "source": [
    "print('Validation complete')"
   ]
  }
 ],
 "metadata": {
  "kernelspec": {
   "display_name": "Python 3 (ipykernel)",
   "language": "python",
   "name": "python3"
  },
  "language_info": {
   "codemirror_mode": {
    "name": "ipython",
    "version": 3
   },
   "file_extension": ".py",
   "mimetype": "text/x-python",
   "name": "python",
   "nbconvert_exporter": "python",
   "pygments_lexer": "ipython3",
   "version": "3.9.13"
  }
 },
 "nbformat": 4,
 "nbformat_minor": 5
}
