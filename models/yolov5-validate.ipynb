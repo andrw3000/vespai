{
 "cells": [
  {
   "cell_type": "markdown",
   "id": "d7b3d6d8",
   "metadata": {},
   "source": [
    "# Validation of a YOLOv5 model"
   ]
  },
  {
   "cell_type": "code",
   "execution_count": 1,
   "id": "b18a3922",
   "metadata": {},
   "outputs": [],
   "source": [
    "import os\n",
    "import sys\n",
    "\n",
    "# Root directory\n",
    "root_dir = '/Users/Holmes/Research/Projects/vespai'\n",
    "sys.path.insert(0, root_dir)\n",
    "os.chdir(os.path.join(root_dir, 'models/yolov5'))  # Move to yolov5\n",
    "\n",
    "# Data directory (x1)\n",
    "data_dir = os.path.join(root_dir, 'datasets/polygons-21-plus-06')\n",
    "os.listdir(data_dir)\n",
    "\n",
    "# Automatically reload imported programmes\n",
    "%load_ext autoreload\n",
    "%autoreload 2"
   ]
  },
  {
   "cell_type": "code",
   "execution_count": 2,
   "id": "5939ae0d",
   "metadata": {},
   "outputs": [
    {
     "ename": "FileNotFoundError",
     "evalue": "[Errno 2] No such file or directory: 'runs/val/polygons-pollutants/readout.txt'",
     "output_type": "error",
     "traceback": [
      "\u001b[0;31m---------------------------------------------------------------------------\u001b[0m",
      "\u001b[0;31mFileNotFoundError\u001b[0m                         Traceback (most recent call last)",
      "Input \u001b[0;32mIn [2]\u001b[0m, in \u001b[0;36m<cell line: 11>\u001b[0;34m()\u001b[0m\n\u001b[1;32m      8\u001b[0m get_ipython()\u001b[38;5;241m.\u001b[39msystem(\u001b[38;5;124m'\u001b[39m\u001b[38;5;124mpython val.py  --weights ../yolov5-runs/train/yolov5s-220715/weights/best.pt                  --project ../yolov5-runs/val                  --name \u001b[39m\u001b[38;5;132;01m{proj_name}\u001b[39;00m\u001b[38;5;124m                  --task test                  --data \u001b[39m\u001b[38;5;132;01m{yaml_path}\u001b[39;00m\u001b[38;5;124m                  --save-txt                  --save-hybrid                  --save-conf                  --verbose\u001b[39m\u001b[38;5;124m'\u001b[39m)\n\u001b[1;32m     10\u001b[0m \u001b[38;5;66;03m# Save readout\u001b[39;00m\n\u001b[0;32m---> 11\u001b[0m \u001b[38;5;28;01mwith\u001b[39;00m \u001b[38;5;28;43mopen\u001b[39;49m\u001b[43m(\u001b[49m\u001b[38;5;124;43m'\u001b[39;49m\u001b[38;5;124;43mruns/val/\u001b[39;49m\u001b[38;5;124;43m'\u001b[39;49m\u001b[43m \u001b[49m\u001b[38;5;241;43m+\u001b[39;49m\u001b[43m \u001b[49m\u001b[43mproj_name\u001b[49m\u001b[43m \u001b[49m\u001b[38;5;241;43m+\u001b[39;49m\u001b[43m \u001b[49m\u001b[38;5;124;43m'\u001b[39;49m\u001b[38;5;124;43m/readout.txt\u001b[39;49m\u001b[38;5;124;43m'\u001b[39;49m\u001b[43m,\u001b[49m\u001b[43m \u001b[49m\u001b[38;5;124;43m'\u001b[39;49m\u001b[38;5;124;43mw\u001b[39;49m\u001b[38;5;124;43m'\u001b[39;49m\u001b[43m)\u001b[49m \u001b[38;5;28;01mas\u001b[39;00m f:\n\u001b[1;32m     12\u001b[0m     f\u001b[38;5;241m.\u001b[39mwrite(\u001b[38;5;124m'\u001b[39m\u001b[38;5;130;01m\\n\u001b[39;00m\u001b[38;5;124m'\u001b[39m\u001b[38;5;241m.\u001b[39mjoin(readout\u001b[38;5;241m.\u001b[39mstdout\u001b[38;5;241m.\u001b[39msplit(\u001b[38;5;124m\"\u001b[39m\u001b[38;5;130;01m\\n\u001b[39;00m\u001b[38;5;124m\"\u001b[39m)))\n\u001b[1;32m     14\u001b[0m \u001b[38;5;28mprint\u001b[39m(readout\u001b[38;5;241m.\u001b[39mstdout)\n",
      "\u001b[0;31mFileNotFoundError\u001b[0m: [Errno 2] No such file or directory: 'runs/val/polygons-pollutants/readout.txt'"
     ]
    }
   ],
   "source": [
    "%%capture readout\n",
    "\n",
    "# Locate local config file (x1)\n",
    "yaml_path = os.path.join(data_dir, 'config-local.yaml')\n",
    "proj_name = 'polygons-21-plus-06'\n",
    "\n",
    "# To compute mAP on test data (x1)\n",
    "#   opt `--half` for FP16 inference\n",
    "#   opt `--augment` for augmented inference\n",
    "!python val.py  --weights ../yolov5-params/yolov5s-21-plus-06.pt \\\n",
    "                --project ../yolov5-runs/val \\\n",
    "                --name {proj_name} \\\n",
    "                --task test \\\n",
    "                --data {yaml_path} \\\n",
    "                --save-txt \\\n",
    "                --save-hybrid \\\n",
    "                --save-conf \\\n",
    "                --verbose\n",
    "\n",
    "# Save readout\n",
    "with open('../yolov5-runs/val/' + proj_name + '/readout.txt', 'w') as f:\n",
    "    f.write('\\n'.join(readout.stdout.split(\"\\n\")))\n",
    "    \n",
    "print(readout.stdout)"
   ]
  }
 ],
 "metadata": {
  "kernelspec": {
   "display_name": "Python 3 (ipykernel)",
   "language": "python",
   "name": "python3"
  },
  "language_info": {
   "codemirror_mode": {
    "name": "ipython",
    "version": 3
   },
   "file_extension": ".py",
   "mimetype": "text/x-python",
   "name": "python",
   "nbconvert_exporter": "python",
   "pygments_lexer": "ipython3",
   "version": "3.9.13"
  }
 },
 "nbformat": 4,
 "nbformat_minor": 5
}
