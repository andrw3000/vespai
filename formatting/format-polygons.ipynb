{
 "cells": [
  {
   "cell_type": "markdown",
   "id": "129c01f9",
   "metadata": {
    "id": "b26b9962"
   },
   "source": [
    "# Formatting labels as polygonal segments\n",
    "We consider the data exported from PlainSight in COCO format, reformat this into YOLOv5 format and plot the resulting bounding boxes as a sanity check. We also combine the seperate exports from Pete and Thomas."
   ]
  },
  {
   "cell_type": "code",
   "execution_count": 1,
   "id": "FfpuH-7X-hmu",
   "metadata": {
    "colab": {
     "base_uri": "https://localhost:8080/"
    },
    "executionInfo": {
     "elapsed": 17260,
     "status": "ok",
     "timestamp": 1647421978168,
     "user": {
      "displayName": "Andrew Corbett",
      "photoUrl": "https://lh3.googleusercontent.com/a-/AOh14GjfWvSpJcF8ufZCpMOCz9qkF5qYKUu3WQYoyFxl=s64",
      "userId": "01044198545578387343"
     },
     "user_tz": 0
    },
    "id": "FfpuH-7X-hmu",
    "outputId": "12fdd8eb-bbbb-4d6a-c3ee-9c387df30d3d"
   },
   "outputs": [],
   "source": [
    "import os\n",
    "import sys\n",
    "\n",
    "# Root directory\n",
    "root_dir = '/Users/Holmes/Research/Projects/vespalert'\n",
    "os.chdir(root_dir)  # Move to root_dir\n",
    "sys.path.insert(0, root_dir)\n",
    "\n",
    "# Data directory\n",
    "data_dir = os.path.join(root_dir, 'datasets/polygons-21')\n",
    "os.listdir(data_dir)\n",
    "\n",
    "# Automatically reload imported programmes\n",
    "%load_ext autoreload\n",
    "%autoreload 2"
   ]
  },
  {
   "cell_type": "markdown",
   "id": "c36bda4b",
   "metadata": {
    "id": "c36bda4b"
   },
   "source": [
    "## Create YOLOv5 annotations from JSON files\n",
    "This first function reads the json_file in the list and extracts the annotations attached to each image file. The output is a list of dictionaries, one for each image.\n",
    "\n",
    "Next it creates a temporary directory ann in which to store the YOLOv5 formatted annotations. We optionally expand the box sides by a proportion of the tight-fitting length; this helps include the legs."
   ]
  },
  {
   "cell_type": "code",
   "execution_count": null,
   "id": "6d2e8dd5",
   "metadata": {
    "id": "6d2e8dd5"
   },
   "outputs": [],
   "source": [
    "from formatting.polygons import yolov5_polygons_from_json\n",
    "json_files = [\n",
    "    'train-kitchen-a.json',\n",
    "    'train-pete-a.json',\n",
    "    'train-thomas-a.json',\n",
    "    'train-thomas-b.json',\n",
    "    'test-kitchen-a.json',\n",
    "    'test-pete-a.json',\n",
    "    'test-thomas-a.json',\n",
    "    'test-thomas-b.json',\n",
    "    'validation-kitchen-a.json',\n",
    "    'validation-pete-a.json',\n",
    "    'validation-thomas-a.json',\n",
    "    'validation-thomas-b.json',\n",
    "]\n",
    "dict_list = yolov5_polygons_from_json(data_dir, json_files)"
   ]
  },
  {
   "cell_type": "code",
   "execution_count": null,
   "id": "13b2b776",
   "metadata": {
    "id": "13b2b776"
   },
   "outputs": [],
   "source": [
    "dict_list[0]"
   ]
  },
  {
   "cell_type": "markdown",
   "id": "33481e93",
   "metadata": {
    "id": "33481e93"
   },
   "source": [
    "## Split into data subsets\n",
    "Next we split the image and annotation files into an 80:10:10 split: `train`, `val` and `test` as subdirectories of the new folders `images` and `labels`."
   ]
  },
  {
   "cell_type": "code",
   "execution_count": null,
   "id": "2cbb256b",
   "metadata": {
    "id": "2cbb256b"
   },
   "outputs": [],
   "source": [
    "from formatting.boxes import split_train_val_test\n",
    "\n",
    "split_train_val_test(data_dir)"
   ]
  },
  {
   "cell_type": "markdown",
   "id": "b99e1fb8",
   "metadata": {},
   "source": [
    "Optionally, store locations of the `train`, `val` and `test` files in a locally pointing YAML for the model to read. "
   ]
  },
  {
   "cell_type": "code",
   "execution_count": null,
   "id": "8097704e",
   "metadata": {},
   "outputs": [],
   "source": [
    "from formatting.boxes import write_yaml\n",
    "\n",
    "yaml_name = 'config-local.yaml'\n",
    "write_yaml(data_dir, yaml_name)"
   ]
  },
  {
   "cell_type": "markdown",
   "id": "f9153f8d",
   "metadata": {
    "id": "f9153f8d"
   },
   "source": [
    "## Plot example annotated images\n",
    "Vespa crabro is segmented in *yellow*;\n",
    "Vespa velutina in *red*."
   ]
  },
  {
   "cell_type": "code",
   "execution_count": null,
   "id": "c2a6a1c9",
   "metadata": {
    "colab": {
     "base_uri": "https://localhost:8080/",
     "height": 728
    },
    "executionInfo": {
     "elapsed": 34592,
     "status": "error",
     "timestamp": 1647422012755,
     "user": {
      "displayName": "Andrew Corbett",
      "photoUrl": "https://lh3.googleusercontent.com/a-/AOh14GjfWvSpJcF8ufZCpMOCz9qkF5qYKUu3WQYoyFxl=s64",
      "userId": "01044198545578387343"
     },
     "user_tz": 0
    },
    "id": "c2a6a1c9",
    "outputId": "41b1c5ac-e837-487f-ae2f-2af37e8ff1d7"
   },
   "outputs": [],
   "source": [
    "import glob\n",
    "import random\n",
    "from formatting.polygons import check_polys\n",
    "%matplotlib inline\n",
    "\n",
    "annotation_files = glob.glob(os.path.join(data_dir, 'labels/train/*.txt'))\n",
    "\n",
    "# Randomly choose annotation files to overlay onto images\n",
    "random.seed(0)\n",
    "selection = random.choices(annotation_files, k=10)\n",
    "\n",
    "\n",
    "# `plot_bounding_boxes` uses PIL.ImageDraw: if problem, set `print_labels=False`.\n",
    "os.makedirs(os.path.join(data_dir, 'examples'), exist_ok=True)\n",
    "for file in selection:\n",
    "    print('File name:', file)\n",
    "    fig, file_name = check_polys(file, print_labels=True)\n",
    "    fig.savefig(os.path.join(\n",
    "            data_dir, 'examples', 'labelled-' + os.path.basename(file_name)\n",
    "        ))\n"
   ]
  }
 ],
 "metadata": {
  "colab": {
   "collapsed_sections": [],
   "name": "check-format-bboxes.ipynb",
   "provenance": []
  },
  "kernelspec": {
   "display_name": "Python 3 (ipykernel)",
   "language": "python",
   "name": "python3"
  },
  "language_info": {
   "codemirror_mode": {
    "name": "ipython",
    "version": 3
   },
   "file_extension": ".py",
   "mimetype": "text/x-python",
   "name": "python",
   "nbconvert_exporter": "python",
   "pygments_lexer": "ipython3",
   "version": "3.9.10"
  }
 },
 "nbformat": 4,
 "nbformat_minor": 5
}
