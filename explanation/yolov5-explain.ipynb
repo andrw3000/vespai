{
 "cells": [
  {
   "cell_type": "markdown",
   "id": "d7b3d6d8",
   "metadata": {},
   "source": [
    "# Explanations with a trainined YOLOv5 model"
   ]
  },
  {
   "cell_type": "code",
   "execution_count": 1,
   "id": "b18a3922",
   "metadata": {},
   "outputs": [],
   "source": [
    "import os\n",
    "import sys\n",
    "\n",
    "# Root directory\n",
    "root_dir = '/Users/Holmes/Research/Projects/vespalert'\n",
    "sys.path.insert(0, root_dir)\n",
    "\n",
    "# Move to yolo-heatmaps\n",
    "os.chdir(os.path.join(root_dir, 'utils/heatmaps'))\n",
    "\n",
    "# Automatically reload imported programmes\n",
    "%load_ext autoreload\n",
    "%autoreload 2"
   ]
  },
  {
   "cell_type": "markdown",
   "id": "8adca3b6",
   "metadata": {},
   "source": [
    "We utilise `explain.py` from yolo-explanations.\n",
    "- The `--source` flag allows one to choose the input source: single image; folder of images; video; webcam.\n",
    "- The `--name` flag located where the detections are stored within `yolov5/runs/explain/`\n",
    "- The `--power` flag determines the power exponent applied to weights and inputs\n",
    "- Use `--contrastive` for contrastive relevance (CRP)\n",
    "- Use `--explain-class` to explain a specific class\n",
    "- Use `--box-xywh` to restrict investigation (X,Y,W,H format)"
   ]
  },
  {
   "cell_type": "code",
   "execution_count": 2,
   "id": "3621ffad",
   "metadata": {},
   "outputs": [
    {
     "name": "stdout",
     "output_type": "stream",
     "text": [
      "Centre points:  (850, 473, 145, 152)\n",
      "Top-left corner:  (777, 396, 145, 152)\n"
     ]
    }
   ],
   "source": [
    "def scale_up(x, y, w, h):\n",
    "    return int(1920 * x), int(1080 * y), int(1920 * w), int(1080 * h)\n",
    "\n",
    "def box_convert(x, y, w, h):\n",
    "    return int(1920 * (x - w/2)), int(1080 * (y - h/2)), int(1920 * w), int(1080 * h)\n",
    "\n",
    "print('Centre points: ', scale_up(0.443, 0.438, 0.076, 0.141))\n",
    "print('Top-left corner: ', box_convert(0.443, 0.438, 0.076, 0.141))"
   ]
  },
  {
   "cell_type": "markdown",
   "id": "2b543ea7",
   "metadata": {},
   "source": [
    "For contrastive mode:\n",
    "- `--contrastive --b1 5 --b2 3.5 --explain-class='Vespa crabro' `\n",
    "- `--contrastive --b1 4.5 --b2 3.5 --explain-class='Vespa velutina'`"
   ]
  },
  {
   "cell_type": "code",
   "execution_count": 5,
   "id": "890c26d6",
   "metadata": {},
   "outputs": [
    {
     "name": "stderr",
     "output_type": "stream",
     "text": [
      "\u001b[34m\u001b[1mexplain: \u001b[0mweights=['runs/train/polys/weights/best.pt'], source=../datasets/inspection/images, imgsz=[640, 640], conf_thres=0.25, iou_thres=0.45, max_det=1000, device=, view_img=False, save_txt=False, save_conf=False, save_crop=False, nosave=False, classes=None, agnostic_nms=False, visualize=False, update=False, project=runs/explain, name=polys-lrp, exist_ok=False, line_thickness=3, hide_labels=False, hide_conf=False, half=False, dnn=False, power=1, contrastive=False, b1=1.0, b2=1.0, explain_class=None, conf=False, max_class_only=True, box_xywh=None, smooth_ks=1, box_xyxy=None, cmap=magma\n",
      "YOLOv5 🚀 29db8b8 torch 1.10.2 CPU\n",
      "\n",
      "Fusing layers... \n",
      "Model Summary: 213 layers, 7015519 parameters, 0 gradients, 15.8 GFLOPs\n",
      "image 1/6 /Users/Holmes/Research/Projects/vespalert/datasets/inspection/images/01FVAGQV9V1M9A5HJZY2ACCV3V.jpeg: 384x640 1 Vespa velutina, Done. (0.211s)\n",
      "image 2/6 /Users/Holmes/Research/Projects/vespalert/datasets/inspection/images/01FVD4CHD3Q3K0HM15T6ZMRJR4.jpeg: 384x640 1 Vespa crabro, Done. (0.200s)\n",
      "image 3/6 /Users/Holmes/Research/Projects/vespalert/datasets/inspection/images/01FVD4D1R3S0Z2QJZVJFSW2KNY.jpeg: 384x640 1 Vespa crabro, Done. (0.193s)\n",
      "image 4/6 /Users/Holmes/Research/Projects/vespalert/datasets/inspection/images/01FWE0V85YD0K3V79FWQ9NFYCS.jpeg: 384x640 1 Vespa velutina, Done. (0.191s)\n",
      "image 5/6 /Users/Holmes/Research/Projects/vespalert/datasets/inspection/images/01G2Z291W92M19GFJC9549Q92C.jpeg: 384x640 1 Vespa crabro, Done. (0.198s)\n",
      "image 6/6 /Users/Holmes/Research/Projects/vespalert/datasets/inspection/images/01G2Z2NEHZWRDETBBSBY87TM64.jpeg: 384x640 1 Vespa velutina, Done. (0.204s)\n",
      "Results saved to \u001b[1mruns/explain/polys-lrp\u001b[0m\n"
     ]
    },
    {
     "name": "stdout",
     "output_type": "stream",
     "text": [
      "Explain cls Vespa velutina in 544.9380874633789 ms\n",
      "Warning: Replacing previous fwd hook registered for <class 'models.common.Concat'>\n",
      "Warning: Replacing previous fwd hook registered for <class 'models.common.SPPF'>\n",
      "Explain cls Vespa crabro in 519.5999145507812 ms\n",
      "Warning: Replacing previous fwd hook registered for <class 'models.common.Concat'>\n",
      "Warning: Replacing previous fwd hook registered for <class 'models.common.SPPF'>\n",
      "Explain cls Vespa crabro in 502.838134765625 ms\n",
      "Warning: Replacing previous fwd hook registered for <class 'models.common.Concat'>\n",
      "Warning: Replacing previous fwd hook registered for <class 'models.common.SPPF'>\n",
      "Explain cls Vespa velutina in 486.1891269683838 ms\n",
      "Warning: Replacing previous fwd hook registered for <class 'models.common.Concat'>\n",
      "Warning: Replacing previous fwd hook registered for <class 'models.common.SPPF'>\n",
      "Explain cls Vespa crabro in 491.70589447021484 ms\n",
      "Warning: Replacing previous fwd hook registered for <class 'models.common.Concat'>\n",
      "Warning: Replacing previous fwd hook registered for <class 'models.common.SPPF'>\n",
      "Explain cls Vespa velutina in 493.46303939819336 ms\n",
      "Speed: 1.4ms pre-process, 199.6ms inference, 2.5ms NMS lrp 0.0ms per image at shape (1, 3, 640, 640)\n"
     ]
    }
   ],
   "source": [
    "# To print detections over folder with chosen confidence `--conf` (x3)\n",
    "!python explain.py  --source ../../datasets/inspection/images \\\n",
    "                    --weights ../../models/yolov5-runs/train/smallnet/weights/best.pt \\\n",
    "                    --project ../yolov5-runs/explain \\\n",
    "                    --name smallnet-lrp \\"
   ]
  },
  {
   "cell_type": "code",
   "execution_count": null,
   "id": "390cf965",
   "metadata": {},
   "outputs": [],
   "source": []
  }
 ],
 "metadata": {
  "kernelspec": {
   "display_name": "Python 3 (ipykernel)",
   "language": "python",
   "name": "python3"
  },
  "language_info": {
   "codemirror_mode": {
    "name": "ipython",
    "version": 3
   },
   "file_extension": ".py",
   "mimetype": "text/x-python",
   "name": "python",
   "nbconvert_exporter": "python",
   "pygments_lexer": "ipython3",
   "version": "3.9.10"
  }
 },
 "nbformat": 4,
 "nbformat_minor": 5
}
