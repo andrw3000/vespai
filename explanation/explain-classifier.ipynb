{
 "cells": [
  {
   "cell_type": "markdown",
   "metadata": {},
   "source": [
    "# LRP on hornet classifier model"
   ]
  },
  {
   "cell_type": "markdown",
   "metadata": {},
   "source": [
    "Identify local directories and imports."
   ]
  },
  {
   "cell_type": "code",
   "execution_count": null,
   "metadata": {},
   "outputs": [],
   "source": [
    "import os\n",
    "import sys\n",
    "import glob\n",
    "import matplotlib.pyplot as plt\n",
    "import torch\n",
    "import numpy as np\n",
    "import torchvision\n",
    "from skimage import io\n",
    "from skimage import transform\n",
    "\n",
    "# Experiment name\n",
    "exp_name = 'resnet18-lrp'\n",
    "\n",
    "# Root directory\n",
    "root_dir = '/Users/Holmes/Research/Projects/vespai'\n",
    "sys.path.insert(0, root_dir)\n",
    "data_dir = os.path.join(root_dir, 'datasets/extracts-21')\n",
    "weights_dir = os.path.join(\n",
    "    root_dir, 'models/classifier-runs/' + exp_name + '/weights',\n",
    ")\n",
    "\n",
    "# Add local lrp-resnet to path and import LRP package\n",
    "lrp_dir = os.path.join(root_dir, 'explanation/lrp-resnet')\n",
    "resnet_dir = os.path.join(root_dir, 'explanation/lrp-resnet/notebooks')\n",
    "os.chdir(lrp_dir)\n",
    "from LRP import LRP\n",
    "os.chdir(resnet_dir)\n",
    "from resnet import resnet18\n",
    "\n",
    "# Automatically reload imported programmes\n",
    "%load_ext autoreload\n",
    "%autoreload 2"
   ]
  },
  {
   "cell_type": "markdown",
   "metadata": {},
   "source": [
    "## ResNet and LRP models\n"
   ]
  },
  {
   "cell_type": "code",
   "execution_count": null,
   "metadata": {},
   "outputs": [],
   "source": [
    "# Load binary ResNet classifier\n",
    "model = resnet18(num_classes=2)\n",
    "\n",
    "# Import pretrained weights\n",
    "model.load_state_dict(torch.load(os.path.join(weights_dir, 'best.pt')))\n",
    "model = model.eval()\n",
    "\n",
    "# Instantiate LRP object\n",
    "lrp_model = LRP(model, 'z_rule')"
   ]
  },
  {
   "cell_type": "markdown",
   "metadata": {},
   "source": [
    "## Test on data"
   ]
  },
  {
   "cell_type": "code",
   "execution_count": null,
   "metadata": {},
   "outputs": [],
   "source": [
    "os.chdir(root_dir)\n",
    "os.chdir(os.path.join(root_dir, 'models'))\n",
    "from classifier.loader import get_hornet_loader\n",
    "from classifier.utils import show_batch\n",
    "\n",
    "\n",
    "# Get data loader\n",
    "test_files = glob.glob(os.path.join(data_dir, 'test/*.jpeg'))\n",
    "test_loader = get_hornet_loader(test_files, batch_size=1, augment=False)\n",
    "test_list = list(test_loader)\n",
    "\n",
    "# Print samples of batches\n",
    "for idx, sample_batch in enumerate(test_loader):\n",
    "    print('Batch number ', idx, ', batch size: ', sample_batch[0].size())\n",
    "\n",
    "    # Observe 4th batch and stop.\n",
    "    if idx == 3:\n",
    "        plt.figure(figsize=(12, 12))\n",
    "        show_batch(sample_batch)\n",
    "        plt.axis('off')\n",
    "        plt.ioff()\n",
    "        # plt.savefig(os.path.join(fig_dir, 'augs.png'))\n",
    "        plt.show()\n",
    "        break\n"
   ]
  },
  {
   "cell_type": "markdown",
   "metadata": {},
   "source": [
    "### Inference"
   ]
  },
  {
   "cell_type": "code",
   "execution_count": null,
   "metadata": {},
   "outputs": [],
   "source": [
    "data = test_list[0]\n",
    "image = data[0]\n",
    "mpl_image = image.squeeze().permute(1, 2, 0)\n",
    "plt.imshow(mpl_image)\n",
    "plt.show()\n",
    "\n",
    "# Run through model\n",
    "print('Image shape: ', image.shape)\n",
    "image_output = lrp_model.forward(image)\n",
    "\n",
    "print('Prediction: ', torch.softmax(image_output, dim=-1).squeeze().detach())\n",
    "print('Target: ', data[1])"
   ]
  },
  {
   "cell_type": "markdown",
   "metadata": {},
   "source": [
    "### Relevance"
   ]
  },
  {
   "cell_type": "code",
   "execution_count": null,
   "metadata": {},
   "outputs": [],
   "source": [
    "image_lrp = lrp_model(image)\n",
    "plt.imshow(image_lrp.squeeze().permute(1, 2, 0)[:,:,0])"
   ]
  },
  {
   "cell_type": "code",
   "execution_count": null,
   "metadata": {},
   "outputs": [],
   "source": [
    "image_lrp.squeeze().permute(1, 2, 0)[:,:,0]"
   ]
  },
  {
   "cell_type": "markdown",
   "metadata": {},
   "source": [
    "## Random predictions"
   ]
  },
  {
   "cell_type": "code",
   "execution_count": null,
   "metadata": {},
   "outputs": [],
   "source": [
    "random_image = torch.rand(1, 3, 256, 256)\n",
    "random_output = model(random_image)\n",
    "\n",
    "plt.imshow(random_image.squeeze().permute(1, 2, 0))\n",
    "plt.show()\n",
    "print('Random predictions: ', torch.softmax(random_output, dim=-1).squeeze().detach())\n"
   ]
  },
  {
   "cell_type": "markdown",
   "metadata": {},
   "source": [
    "## Relevance"
   ]
  },
  {
   "cell_type": "code",
   "execution_count": null,
   "metadata": {},
   "outputs": [],
   "source": [
    "random_lrp = lrp_model.relprop(random_image)\n",
    "plt.imshow(random_lrp.squeeze().permute(1,2,0)[:, :, 0])"
   ]
  },
  {
   "cell_type": "code",
   "execution_count": null,
   "metadata": {},
   "outputs": [],
   "source": [
    "random_lrp.squeeze().permute(1,2,0)[:, :, 0]"
   ]
  }
 ],
 "metadata": {
  "kernelspec": {
   "display_name": "Python 3 (ipykernel)",
   "language": "python",
   "name": "python3"
  },
  "language_info": {
   "codemirror_mode": {
    "name": "ipython",
    "version": 3
   },
   "file_extension": ".py",
   "mimetype": "text/x-python",
   "name": "python",
   "nbconvert_exporter": "python",
   "pygments_lexer": "ipython3",
   "version": "3.9.13"
  }
 },
 "nbformat": 4,
 "nbformat_minor": 2
}
