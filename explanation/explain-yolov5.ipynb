{
 "cells": [
  {
   "cell_type": "markdown",
   "id": "d7b3d6d8",
   "metadata": {},
   "source": [
    "# Explanations with a trainined YOLOv5 model"
   ]
  },
  {
   "cell_type": "code",
   "execution_count": 1,
   "id": "b18a3922",
   "metadata": {},
   "outputs": [],
   "source": [
    "import os\n",
    "import sys\n",
    "\n",
    "# Root directory\n",
    "root_dir = '/Users/Holmes/Research/Projects/vespai'\n",
    "sys.path.insert(0, root_dir)\n",
    "\n",
    "# Move to submodule\n",
    "os.chdir(os.path.join(root_dir, 'explanation/lrp-yolov5'))\n",
    "\n",
    "# Automatically reload imported programmes\n",
    "%load_ext autoreload\n",
    "%autoreload 2"
   ]
  },
  {
   "cell_type": "markdown",
   "id": "8adca3b6",
   "metadata": {},
   "source": [
    "We utilise `explain.py` from `lrp-yolov5`.\n",
    "- The `--source` flag allows one to choose the input source: single image; folder of images; video; webcam.\n",
    "- The `--name` flag names the directory in which detections are stored within `models/yolov5-runs/explain/`\n",
    "- The `--power` flag determines the power exponent applied to weights and inputs\n",
    "- Use `--contrastive` for contrastive relevance (CRP)\n",
    "- Use `--explain-class` to explain a specific class\n",
    "- Use `--box-xywh` to restrict investigation (X,Y,W,H format)"
   ]
  },
  {
   "cell_type": "code",
   "execution_count": 2,
   "id": "3621ffad",
   "metadata": {},
   "outputs": [
    {
     "name": "stdout",
     "output_type": "stream",
     "text": [
      "Centre points:  (850, 473, 145, 152)\n",
      "Top-left corner:  (777, 396, 145, 152)\n"
     ]
    }
   ],
   "source": [
    "def scale_up(x, y, w, h):\n",
    "    return int(1920 * x), int(1080 * y), int(1920 * w), int(1080 * h)\n",
    "\n",
    "def box_convert(x, y, w, h):\n",
    "    return int(1920 * (x - w/2)), int(1080 * (y - h/2)), int(1920 * w), int(1080 * h)\n",
    "\n",
    "print('Centre points: ', scale_up(0.443, 0.438, 0.076, 0.141))\n",
    "print('Top-left corner: ', box_convert(0.443, 0.438, 0.076, 0.141))"
   ]
  },
  {
   "cell_type": "markdown",
   "id": "2b543ea7",
   "metadata": {},
   "source": [
    "For contrastive mode:\n",
    "- `--contrastive --b1 5 --b2 3.5 --explain-class='Vespa crabro' `\n",
    "- `--contrastive --b1 4.5 --b2 3.5 --explain-class='Vespa velutina'`"
   ]
  },
  {
   "cell_type": "code",
   "execution_count": 3,
   "id": "890c26d6",
   "metadata": {},
   "outputs": [
    {
     "name": "stdout",
     "output_type": "stream",
     "text": [
      "\u001b[34m\u001b[1mexplain: \u001b[0mweights=['runs/train/yolov5s-21all/weights/best.pt'], source=../../models/yolov5-runs/explain/data/examples/01G8R0ANPF5TZ8HABCV5V0H16W.jpeg, imgsz=[640, 640], conf_thres=0.1, iou_thres=0.45, max_det=1000, device=, view_img=False, save_txt=False, save_conf=False, save_crop=True, nosave=False, classes=None, agnostic_nms=False, visualize=False, update=False, project=../../models/yolov5-runs/explain, name=01G8R0ANPF5TZ8HABCV5V0H16W-378_112_403_164-vc-21all, exist_ok=False, line_thickness=3, hide_labels=False, hide_conf=False, half=False, dnn=False, power=1, contrastive=False, b1=1.0, b2=1.0, explain_class=Vespa crabro, conf=False, max_class_only=True, box_xywh=None, smooth_ks=1, box_xyxy=None, cmap=magma\n",
      "YOLOv5 🚀 f881470 torch 1.10.2 CPU\n",
      "\n",
      "Fusing layers... \n",
      "Model Summary: 213 layers, 7015519 parameters, 0 gradients\n",
      "Traceback (most recent call last):\n",
      "  File \"/Users/Holmes/Research/Projects/vespai/explanation/lrp-yolov5/explain.py\", line 398, in <module>\n",
      "    main(opt)\n",
      "  File \"/Users/Holmes/Research/Projects/vespai/explanation/lrp-yolov5/explain.py\", line 394, in main\n",
      "    run(**vars(opt))\n",
      "  File \"/opt/miniconda3/envs/vespai/lib/python3.9/site-packages/torch/autograd/grad_mode.py\", line 28, in decorate_context\n",
      "    return func(*args, **kwargs)\n",
      "  File \"/Users/Holmes/Research/Projects/vespai/explanation/lrp-yolov5/explain.py\", line 166, in run\n",
      "    dataset = LoadImages(source, img_size=imgsz, stride=stride, auto=pt)\n",
      "  File \"/Users/Holmes/Research/Projects/vespai/explanation/lrp-yolov5/utils/datasets.py\", line 170, in __init__\n",
      "    raise Exception(f'ERROR: {p} does not exist')\n",
      "Exception: ERROR: /Users/Holmes/Research/Projects/vespai/models/yolov5-runs/explain/data/examples/01G8R0ANPF5TZ8HABCV5V0H16W.jpeg does not exist\n"
     ]
    }
   ],
   "source": [
    "# To compute explanations over source with chosen confidence `--conf-thr# To compute explanations over source with chosen confidence `--conf-thres`\n",
    "!python explain.py  --conf-thres 0.10 \\\n",
    "                    --source ../../models/yolov5-runs/explain/data/examples/01FTXK7PH098T18GGC720HPY1Z.jpeg \\\n",
    "                    --weights runs/train/yolov5s-21all/weights/best.pt \\\n",
    "                    --project ../../models/yolov5-runs/explain \\\n",
    "                    --name 01FTXK7PH098T18GGC720HPY1Z-378_112_403_164-vc-21all \\\n",
    "                    --save-crop \\\n",
    "                    --explain-class \"Vespa crabro\"\n",
    "                    --box-xyxy 378 112 403 164"
   ]
  },
  {
   "cell_type": "code",
   "execution_count": null,
   "id": "390cf965",
   "metadata": {},
   "outputs": [],
   "source": []
  }
 ],
 "metadata": {
  "kernelspec": {
   "display_name": "Python 3 (ipykernel)",
   "language": "python",
   "name": "python3"
  },
  "language_info": {
   "codemirror_mode": {
    "name": "ipython",
    "version": 3
   },
   "file_extension": ".py",
   "mimetype": "text/x-python",
   "name": "python",
   "nbconvert_exporter": "python",
   "pygments_lexer": "ipython3",
   "version": "3.9.13"
  }
 },
 "nbformat": 4,
 "nbformat_minor": 5
}
